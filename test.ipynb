{
 "cells": [
  {
   "cell_type": "code",
   "execution_count": 24,
   "metadata": {},
   "outputs": [],
   "source": [
    "import numpy as np\n",
    "import pandas as pd\n",
    "from sklearn.feature_extraction.text import TfidfVectorizer\n",
    "from collections import defaultdict\n",
    "import numpy as np\n",
    "from sklearn.metrics.pairwise import cosine_similarity\n",
    "from sklearn.metrics import roc_auc_score"
   ]
  },
  {
   "cell_type": "code",
   "execution_count": 36,
   "metadata": {},
   "outputs": [],
   "source": [
    "data_path = \"data/MINDlarge_train/\"\n",
    "behaviors = pd.read_csv(data_path+\"behaviors.tsv\",sep=\"\\t\",header=None,names=[\"impression_id\", \"user_id\", \"time\", \"history\", \"impressions\"])\n",
    "news = pd.read_csv(data_path+\"news.tsv\",sep=\"\\t\",header=None,names=[\"news_id\", \"category\", \"subcategory\", \"title\", \"abstract\",\n",
    "                          \"url\", \"title_entities\", \"abstract_entities\"])"
   ]
  },
  {
   "cell_type": "code",
   "execution_count": 3,
   "metadata": {},
   "outputs": [
    {
     "data": {
      "text/html": [
       "<div>\n",
       "<style scoped>\n",
       "    .dataframe tbody tr th:only-of-type {\n",
       "        vertical-align: middle;\n",
       "    }\n",
       "\n",
       "    .dataframe tbody tr th {\n",
       "        vertical-align: top;\n",
       "    }\n",
       "\n",
       "    .dataframe thead th {\n",
       "        text-align: right;\n",
       "    }\n",
       "</style>\n",
       "<table border=\"1\" class=\"dataframe\">\n",
       "  <thead>\n",
       "    <tr style=\"text-align: right;\">\n",
       "      <th></th>\n",
       "      <th>impression_id</th>\n",
       "      <th>user_id</th>\n",
       "      <th>time</th>\n",
       "      <th>history</th>\n",
       "      <th>impressions</th>\n",
       "    </tr>\n",
       "  </thead>\n",
       "  <tbody>\n",
       "    <tr>\n",
       "      <th>0</th>\n",
       "      <td>1</td>\n",
       "      <td>U87243</td>\n",
       "      <td>11/10/2019 11:30:54 AM</td>\n",
       "      <td>N8668 N39081 N65259 N79529 N73408 N43615 N2937...</td>\n",
       "      <td>N78206-0 N26368-0 N7578-0 N58592-0 N19858-0 N5...</td>\n",
       "    </tr>\n",
       "    <tr>\n",
       "      <th>1</th>\n",
       "      <td>2</td>\n",
       "      <td>U598644</td>\n",
       "      <td>11/12/2019 1:45:29 PM</td>\n",
       "      <td>N56056 N8726 N70353 N67998 N83823 N111108 N107...</td>\n",
       "      <td>N47996-0 N82719-0 N117066-0 N8491-0 N123784-0 ...</td>\n",
       "    </tr>\n",
       "    <tr>\n",
       "      <th>2</th>\n",
       "      <td>3</td>\n",
       "      <td>U532401</td>\n",
       "      <td>11/13/2019 11:23:03 AM</td>\n",
       "      <td>N128643 N87446 N122948 N9375 N82348 N129412 N5...</td>\n",
       "      <td>N103852-0 N53474-0 N127836-0 N47925-1</td>\n",
       "    </tr>\n",
       "    <tr>\n",
       "      <th>3</th>\n",
       "      <td>4</td>\n",
       "      <td>U593596</td>\n",
       "      <td>11/12/2019 12:24:09 PM</td>\n",
       "      <td>N31043 N39592 N4104 N8223 N114581 N92747 N1207...</td>\n",
       "      <td>N38902-0 N76434-0 N71593-0 N100073-0 N108736-0...</td>\n",
       "    </tr>\n",
       "    <tr>\n",
       "      <th>4</th>\n",
       "      <td>5</td>\n",
       "      <td>U239687</td>\n",
       "      <td>11/14/2019 8:03:01 PM</td>\n",
       "      <td>N65250 N122359 N71723 N53796 N41663 N41484 N11...</td>\n",
       "      <td>N76209-0 N48841-0 N67937-0 N62235-0 N6307-0 N3...</td>\n",
       "    </tr>\n",
       "  </tbody>\n",
       "</table>\n",
       "</div>"
      ],
      "text/plain": [
       "   impression_id  user_id                    time  \\\n",
       "0              1   U87243  11/10/2019 11:30:54 AM   \n",
       "1              2  U598644   11/12/2019 1:45:29 PM   \n",
       "2              3  U532401  11/13/2019 11:23:03 AM   \n",
       "3              4  U593596  11/12/2019 12:24:09 PM   \n",
       "4              5  U239687   11/14/2019 8:03:01 PM   \n",
       "\n",
       "                                             history  \\\n",
       "0  N8668 N39081 N65259 N79529 N73408 N43615 N2937...   \n",
       "1  N56056 N8726 N70353 N67998 N83823 N111108 N107...   \n",
       "2  N128643 N87446 N122948 N9375 N82348 N129412 N5...   \n",
       "3  N31043 N39592 N4104 N8223 N114581 N92747 N1207...   \n",
       "4  N65250 N122359 N71723 N53796 N41663 N41484 N11...   \n",
       "\n",
       "                                         impressions  \n",
       "0  N78206-0 N26368-0 N7578-0 N58592-0 N19858-0 N5...  \n",
       "1  N47996-0 N82719-0 N117066-0 N8491-0 N123784-0 ...  \n",
       "2              N103852-0 N53474-0 N127836-0 N47925-1  \n",
       "3  N38902-0 N76434-0 N71593-0 N100073-0 N108736-0...  \n",
       "4  N76209-0 N48841-0 N67937-0 N62235-0 N6307-0 N3...  "
      ]
     },
     "execution_count": 3,
     "metadata": {},
     "output_type": "execute_result"
    }
   ],
   "source": [
    "behaviors.head()"
   ]
  },
  {
   "cell_type": "code",
   "execution_count": 4,
   "metadata": {},
   "outputs": [
    {
     "data": {
      "text/html": [
       "<div>\n",
       "<style scoped>\n",
       "    .dataframe tbody tr th:only-of-type {\n",
       "        vertical-align: middle;\n",
       "    }\n",
       "\n",
       "    .dataframe tbody tr th {\n",
       "        vertical-align: top;\n",
       "    }\n",
       "\n",
       "    .dataframe thead th {\n",
       "        text-align: right;\n",
       "    }\n",
       "</style>\n",
       "<table border=\"1\" class=\"dataframe\">\n",
       "  <thead>\n",
       "    <tr style=\"text-align: right;\">\n",
       "      <th></th>\n",
       "      <th>news_id</th>\n",
       "      <th>category</th>\n",
       "      <th>subcategory</th>\n",
       "      <th>title</th>\n",
       "      <th>abstract</th>\n",
       "      <th>url</th>\n",
       "      <th>title_entities</th>\n",
       "      <th>abstract_entities</th>\n",
       "    </tr>\n",
       "  </thead>\n",
       "  <tbody>\n",
       "    <tr>\n",
       "      <th>0</th>\n",
       "      <td>N88753</td>\n",
       "      <td>lifestyle</td>\n",
       "      <td>lifestyleroyals</td>\n",
       "      <td>The Brands Queen Elizabeth, Prince Charles, an...</td>\n",
       "      <td>Shop the notebooks, jackets, and more that the...</td>\n",
       "      <td>https://assets.msn.com/labs/mind/AAGH0ET.html</td>\n",
       "      <td>[{\"Label\": \"Prince Philip, Duke of Edinburgh\",...</td>\n",
       "      <td>[]</td>\n",
       "    </tr>\n",
       "    <tr>\n",
       "      <th>1</th>\n",
       "      <td>N45436</td>\n",
       "      <td>news</td>\n",
       "      <td>newsscienceandtechnology</td>\n",
       "      <td>Walmart Slashes Prices on Last-Generation iPads</td>\n",
       "      <td>Apple's new iPad releases bring big deals on l...</td>\n",
       "      <td>https://assets.msn.com/labs/mind/AABmf2I.html</td>\n",
       "      <td>[{\"Label\": \"IPad\", \"Type\": \"J\", \"WikidataId\": ...</td>\n",
       "      <td>[{\"Label\": \"IPad\", \"Type\": \"J\", \"WikidataId\": ...</td>\n",
       "    </tr>\n",
       "    <tr>\n",
       "      <th>2</th>\n",
       "      <td>N23144</td>\n",
       "      <td>health</td>\n",
       "      <td>weightloss</td>\n",
       "      <td>50 Worst Habits For Belly Fat</td>\n",
       "      <td>These seemingly harmless habits are holding yo...</td>\n",
       "      <td>https://assets.msn.com/labs/mind/AAB19MK.html</td>\n",
       "      <td>[{\"Label\": \"Adipose tissue\", \"Type\": \"C\", \"Wik...</td>\n",
       "      <td>[{\"Label\": \"Adipose tissue\", \"Type\": \"C\", \"Wik...</td>\n",
       "    </tr>\n",
       "    <tr>\n",
       "      <th>3</th>\n",
       "      <td>N86255</td>\n",
       "      <td>health</td>\n",
       "      <td>medical</td>\n",
       "      <td>Dispose of unwanted prescription drugs during ...</td>\n",
       "      <td>NaN</td>\n",
       "      <td>https://assets.msn.com/labs/mind/AAISxPN.html</td>\n",
       "      <td>[{\"Label\": \"Drug Enforcement Administration\", ...</td>\n",
       "      <td>[]</td>\n",
       "    </tr>\n",
       "    <tr>\n",
       "      <th>4</th>\n",
       "      <td>N93187</td>\n",
       "      <td>news</td>\n",
       "      <td>newsworld</td>\n",
       "      <td>The Cost of Trump's Aid Freeze in the Trenches...</td>\n",
       "      <td>Lt. Ivan Molchanets peeked over a parapet of s...</td>\n",
       "      <td>https://assets.msn.com/labs/mind/AAJgNsz.html</td>\n",
       "      <td>[]</td>\n",
       "      <td>[{\"Label\": \"Ukraine\", \"Type\": \"G\", \"WikidataId...</td>\n",
       "    </tr>\n",
       "  </tbody>\n",
       "</table>\n",
       "</div>"
      ],
      "text/plain": [
       "  news_id   category               subcategory  \\\n",
       "0  N88753  lifestyle           lifestyleroyals   \n",
       "1  N45436       news  newsscienceandtechnology   \n",
       "2  N23144     health                weightloss   \n",
       "3  N86255     health                   medical   \n",
       "4  N93187       news                 newsworld   \n",
       "\n",
       "                                               title  \\\n",
       "0  The Brands Queen Elizabeth, Prince Charles, an...   \n",
       "1    Walmart Slashes Prices on Last-Generation iPads   \n",
       "2                      50 Worst Habits For Belly Fat   \n",
       "3  Dispose of unwanted prescription drugs during ...   \n",
       "4  The Cost of Trump's Aid Freeze in the Trenches...   \n",
       "\n",
       "                                            abstract  \\\n",
       "0  Shop the notebooks, jackets, and more that the...   \n",
       "1  Apple's new iPad releases bring big deals on l...   \n",
       "2  These seemingly harmless habits are holding yo...   \n",
       "3                                                NaN   \n",
       "4  Lt. Ivan Molchanets peeked over a parapet of s...   \n",
       "\n",
       "                                             url  \\\n",
       "0  https://assets.msn.com/labs/mind/AAGH0ET.html   \n",
       "1  https://assets.msn.com/labs/mind/AABmf2I.html   \n",
       "2  https://assets.msn.com/labs/mind/AAB19MK.html   \n",
       "3  https://assets.msn.com/labs/mind/AAISxPN.html   \n",
       "4  https://assets.msn.com/labs/mind/AAJgNsz.html   \n",
       "\n",
       "                                      title_entities  \\\n",
       "0  [{\"Label\": \"Prince Philip, Duke of Edinburgh\",...   \n",
       "1  [{\"Label\": \"IPad\", \"Type\": \"J\", \"WikidataId\": ...   \n",
       "2  [{\"Label\": \"Adipose tissue\", \"Type\": \"C\", \"Wik...   \n",
       "3  [{\"Label\": \"Drug Enforcement Administration\", ...   \n",
       "4                                                 []   \n",
       "\n",
       "                                   abstract_entities  \n",
       "0                                                 []  \n",
       "1  [{\"Label\": \"IPad\", \"Type\": \"J\", \"WikidataId\": ...  \n",
       "2  [{\"Label\": \"Adipose tissue\", \"Type\": \"C\", \"Wik...  \n",
       "3                                                 []  \n",
       "4  [{\"Label\": \"Ukraine\", \"Type\": \"G\", \"WikidataId...  "
      ]
     },
     "execution_count": 4,
     "metadata": {},
     "output_type": "execute_result"
    }
   ],
   "source": [
    "news.head()"
   ]
  },
  {
   "cell_type": "code",
   "execution_count": 9,
   "metadata": {},
   "outputs": [
    {
     "name": "stdout",
     "output_type": "stream",
     "text": [
      "<class 'pandas.core.frame.DataFrame'>\n",
      "RangeIndex: 2232748 entries, 0 to 2232747\n",
      "Data columns (total 5 columns):\n",
      " #   Column         Dtype \n",
      "---  ------         ----- \n",
      " 0   impression_id  int64 \n",
      " 1   user_id        object\n",
      " 2   time           object\n",
      " 3   history        object\n",
      " 4   impressions    object\n",
      "dtypes: int64(1), object(4)\n",
      "memory usage: 85.2+ MB\n"
     ]
    }
   ],
   "source": [
    "behaviors.info()"
   ]
  },
  {
   "cell_type": "code",
   "execution_count": 13,
   "metadata": {},
   "outputs": [
    {
     "name": "stdout",
     "output_type": "stream",
     "text": [
      "<class 'pandas.core.frame.DataFrame'>\n",
      "RangeIndex: 101527 entries, 0 to 101526\n",
      "Data columns (total 8 columns):\n",
      " #   Column             Non-Null Count   Dtype \n",
      "---  ------             --------------   ----- \n",
      " 0   news_id            101527 non-null  object\n",
      " 1   category           101527 non-null  object\n",
      " 2   subcategory        101527 non-null  object\n",
      " 3   title              101527 non-null  object\n",
      " 4   abstract           96112 non-null   object\n",
      " 5   url                101527 non-null  object\n",
      " 6   title_entities     101524 non-null  object\n",
      " 7   abstract_entities  101521 non-null  object\n",
      "dtypes: object(8)\n",
      "memory usage: 6.2+ MB\n"
     ]
    }
   ],
   "source": [
    "news.info()"
   ]
  },
  {
   "cell_type": "code",
   "execution_count": 14,
   "metadata": {},
   "outputs": [
    {
     "data": {
      "text/plain": [
       "46065"
      ]
     },
     "execution_count": 14,
     "metadata": {},
     "output_type": "execute_result"
    }
   ],
   "source": [
    "sum(behaviors[\"history\"].isna())"
   ]
  },
  {
   "cell_type": "code",
   "execution_count": 6,
   "metadata": {},
   "outputs": [],
   "source": [
    "# create the tfidf matrix for all the articles\n",
    "vectorizer = TfidfVectorizer(max_features=500)\n",
    "tfidf_matrix = vectorizer.fit_transform(news[\"title\"])  # shape: [num_articles x 500]\n",
    "\n",
    "# Map news_id to TF-IDF vector row index\n",
    "news_id_to_idx = {nid: i for i, nid in enumerate(news[\"news_id\"])}"
   ]
  },
  {
   "cell_type": "code",
   "execution_count": 16,
   "metadata": {},
   "outputs": [
    {
     "data": {
      "text/plain": [
       "(101527, 500)"
      ]
     },
     "execution_count": 16,
     "metadata": {},
     "output_type": "execute_result"
    }
   ],
   "source": [
    "tfidf_matrix.shape"
   ]
  },
  {
   "cell_type": "code",
   "execution_count": 17,
   "metadata": {},
   "outputs": [],
   "source": [
    "num_features = tfidf_matrix.shape[1]"
   ]
  },
  {
   "cell_type": "code",
   "execution_count": 21,
   "metadata": {},
   "outputs": [],
   "source": [
    "#build the user profile vectors - mean of user's tf-idf article vectors\n",
    "user_articles = defaultdict(set) #init a default dict with default value empty set\n",
    "\n",
    "for _, row in behaviors.iterrows(): #iterate through the impressions\n",
    "    user = row[\"user_id\"] #get the user\n",
    "    if pd.notna(row[\"history\"]): #if the user has clicked on some articles before\n",
    "        try:\n",
    "            clicked_news = row[\"history\"].split() #get history as list of clicked articles\n",
    "        except Exception as e:\n",
    "            print(e,row[\"history\"],type(row[\"history\"]))\n",
    "            break\n",
    "        #get the list of indices of clicked news articles:\n",
    "        indices = {news_id_to_idx[nid] for nid in clicked_news if nid in news_id_to_idx}\n",
    "        user_articles[user] |= indices #updates set of indices of articles clicked\n",
    "\n",
    "user_profiles = {}\n",
    "#average across all user's tf-idf article vectors to get their profile\n",
    "for user in behaviors[\"user_id\"].unique():\n",
    "    article_indices = user_articles[user]\n",
    "    if article_indices:\n",
    "        article_vectors = tfidf_matrix[list(article_indices)].toarray()\n",
    "        user_profiles[user] = np.mean(article_vectors, axis=0)\n",
    "    else:\n",
    "        user_profiles[user] = np.zeros(num_features)  # cold-start fallback"
   ]
  },
  {
   "cell_type": "code",
   "execution_count": 23,
   "metadata": {},
   "outputs": [],
   "source": [
    "def recommend(u,k=10):\n",
    "    \"\"\"recommend top k similar articles to a given user u based on cosine similarity\"\"\"\n",
    "    if u not in user_profiles:\n",
    "        user_profile = np.zeros(num_features)\n",
    "    else:\n",
    "        user_profile = user_profiles[u]\n",
    "    user_vector = user_profile.reshape(1, -1)\n",
    "    similarities = cosine_similarity(user_vector, tfidf_matrix)\n",
    "    top_indices = similarities[0].argsort()[::-1][:k]\n",
    "    recommendation = news.iloc[top_indices][[\"news_id\", \"title\"]]\n",
    "    return recommendation\n",
    "\n",
    "\n"
   ]
  },
  {
   "cell_type": "code",
   "execution_count": 44,
   "metadata": {},
   "outputs": [],
   "source": [
    "def get_scores(u, impression):\n",
    "    if u not in user_profiles:\n",
    "        user_profile = np.zeros(num_features)\n",
    "    else:\n",
    "        user_profile = user_profiles[u]\n",
    "    \n",
    "    user_vector = user_profile.reshape(1, -1)\n",
    "    \n",
    "    # Get article vectors for this impression only\n",
    "    indices = [news_id_to_idx[nid] for nid in impression if nid in news_id_to_idx]\n",
    "    article_vectors = tfidf_matrix[indices]  # shape: [num_articles_in_impression x num_features]\n",
    "\n",
    "    similarities = cosine_similarity(user_vector, article_vectors)\n",
    "    return similarities[0]  # also return indices so you know which articles the scores belong to"
   ]
  },
  {
   "cell_type": "code",
   "execution_count": 45,
   "metadata": {},
   "outputs": [],
   "source": [
    "def mrr_score(labels, scores):\n",
    "    ranked = np.argsort(scores)[::-1]\n",
    "    for rank, idx in enumerate(ranked):\n",
    "        if labels[idx] == 1:\n",
    "            return 1.0 / (rank + 1)\n",
    "    return 0.0\n",
    "\n",
    "def ndcg_score(labels, scores, k=5):\n",
    "    ranked = np.argsort(scores)[::-1][:k]\n",
    "    dcg = 0.0\n",
    "    for i, idx in enumerate(ranked):\n",
    "        rel = labels[idx]\n",
    "        dcg += rel / np.log2(i + 2)\n",
    "    ideal_dcg = sum([1.0 / np.log2(i + 2) for i in range(min(sum(labels), k))])\n",
    "    return dcg / ideal_dcg if ideal_dcg > 0 else 0.0"
   ]
  },
  {
   "cell_type": "code",
   "execution_count": 29,
   "metadata": {},
   "outputs": [],
   "source": [
    "# Lists to collect scores for all impressions\n",
    "all_auc, all_mrr, all_ndcg5, all_ndcg10= [], [], [], []"
   ]
  },
  {
   "cell_type": "code",
   "execution_count": 28,
   "metadata": {},
   "outputs": [],
   "source": [
    "#preprocess \n",
    "# Extract user IDs (this is fine)\n",
    "users = behaviors[\"user_id\"]\n",
    "\n",
    "# Preprocess impressions and labels\n",
    "impressions = behaviors[\"impressions\"].apply(\n",
    "    lambda row: [x.split(\"-\")[0] for x in row.split()]\n",
    ")\n",
    "\n",
    "labels = behaviors[\"impressions\"].apply(\n",
    "    lambda row: [int(x.split(\"-\")[1]) for x in row.split()]\n",
    ")\n",
    "\n",
    "user_impression_data = list(zip(users, impressions, labels))\n"
   ]
  },
  {
   "cell_type": "code",
   "execution_count": 32,
   "metadata": {},
   "outputs": [],
   "source": [
    "for user,impression,label in user_impression_data:\n",
    "    scores = get_scores(user,impression)\n",
    "    if len(scores) < 2 or sum(label) == 0:\n",
    "        continue #ignore unmeaningful data\n",
    "\n",
    "    try:\n",
    "        all_auc.append(roc_auc_score(label, scores))\n",
    "    except Exception as e:\n",
    "        pass  # AUC may error on uniform labels\n",
    "    all_mrr.append(mrr_score(label, scores))\n",
    "    all_ndcg5.append(ndcg_score(label, scores, k=5))\n",
    "    all_ndcg10.append(ndcg_score(label, scores, k=10))"
   ]
  },
  {
   "cell_type": "code",
   "execution_count": 33,
   "metadata": {},
   "outputs": [
    {
     "name": "stdout",
     "output_type": "stream",
     "text": [
      "AUC: 0.5433194661590481\n",
      "MRR: 0.2880567787139299\n",
      "nDCG@5: 0.2694343397608446\n",
      "nDCG@10: 0.32650412394963335\n"
     ]
    }
   ],
   "source": [
    "# Print final evaluation results\n",
    "print(\"AUC:\", np.mean(all_auc))\n",
    "print(\"MRR:\", np.mean(all_mrr))\n",
    "print(\"nDCG@5:\", np.mean(all_ndcg5))\n",
    "print(\"nDCG@10:\", np.mean(all_ndcg10))"
   ]
  },
  {
   "cell_type": "code",
   "execution_count": 35,
   "metadata": {},
   "outputs": [],
   "source": [
    "dev_news = pd.read_csv(\"data/MINDlarge_dev/news.tsv\",sep=\"\\t\",header=None,names=[\"news_id\", \"category\", \"subcategory\", \"title\", \"abstract\",\n",
    "                          \"url\", \"title_entities\", \"abstract_entities\"])\n"
   ]
  },
  {
   "cell_type": "code",
   "execution_count": 38,
   "metadata": {},
   "outputs": [],
   "source": [
    "combined_news = pd.concat([news, dev_news]).drop_duplicates(subset=[\"news_id\"])  # remove duplicate news IDs"
   ]
  },
  {
   "cell_type": "code",
   "execution_count": 39,
   "metadata": {},
   "outputs": [],
   "source": [
    "# create the tfidf matrix for all the articles\n",
    "vectorizer = TfidfVectorizer(max_features=500)\n",
    "tfidf_matrix = vectorizer.fit_transform(combined_news[\"title\"])  # shape: [num_articles x 500]\n",
    "\n",
    "# Map news_id to TF-IDF vector row index\n",
    "news_id_to_idx = {nid: i for i, nid in enumerate(combined_news[\"news_id\"])}"
   ]
  },
  {
   "cell_type": "code",
   "execution_count": 40,
   "metadata": {},
   "outputs": [],
   "source": [
    "#rebuild the user profile vectors - mean of user's tf-idf article vectors from only TRAIN\n",
    "user_articles = defaultdict(set) #init a default dict with default value empty set\n",
    "\n",
    "for _, row in behaviors.iterrows(): #iterate through the impressions\n",
    "    user = row[\"user_id\"] #get the user\n",
    "    if pd.notna(row[\"history\"]): #if the user has clicked on some articles before\n",
    "        try:\n",
    "            clicked_news = row[\"history\"].split() #get history as list of clicked articles\n",
    "        except Exception as e:\n",
    "            print(e,row[\"history\"],type(row[\"history\"]))\n",
    "            break\n",
    "        #get the list of indices of clicked news articles:\n",
    "        indices = {news_id_to_idx[nid] for nid in clicked_news if nid in news_id_to_idx}\n",
    "        user_articles[user] |= indices #updates set of indices of articles clicked\n",
    "\n",
    "user_profiles = {}\n",
    "#average across all user's tf-idf article vectors to get their profile\n",
    "for user in behaviors[\"user_id\"].unique():\n",
    "    article_indices = user_articles[user]\n",
    "    if article_indices:\n",
    "        article_vectors = tfidf_matrix[list(article_indices)].toarray()\n",
    "        user_profiles[user] = np.mean(article_vectors, axis=0)\n",
    "    else:\n",
    "        user_profiles[user] = np.zeros(num_features)  # cold-start fallback"
   ]
  },
  {
   "cell_type": "code",
   "execution_count": 41,
   "metadata": {},
   "outputs": [],
   "source": [
    "all_auc, all_mrr, all_ndcg5, all_ndcg10= [], [], [], []"
   ]
  },
  {
   "cell_type": "code",
   "execution_count": 42,
   "metadata": {},
   "outputs": [],
   "source": [
    "behaviors_dev = pd.read_csv(\"data/MINDlarge_dev/behaviors.tsv\",sep=\"\\t\",header=None,names=[\"impression_id\", \"user_id\", \"time\", \"history\", \"impressions\"])\n"
   ]
  },
  {
   "cell_type": "code",
   "execution_count": 43,
   "metadata": {},
   "outputs": [],
   "source": [
    "users = behaviors_dev[\"user_id\"]\n",
    "\n",
    "# Preprocess impressions and labels\n",
    "impressions = behaviors_dev[\"impressions\"].apply(\n",
    "    lambda row: [x.split(\"-\")[0] for x in row.split()]\n",
    ")\n",
    "\n",
    "labels = behaviors_dev[\"impressions\"].apply(\n",
    "    lambda row: [int(x.split(\"-\")[1]) for x in row.split()]\n",
    ")\n",
    "\n",
    "user_impression_data = list(zip(users, impressions, labels))"
   ]
  },
  {
   "cell_type": "code",
   "execution_count": 46,
   "metadata": {},
   "outputs": [],
   "source": [
    "def get_scores(u, impression):\n",
    "    if u not in user_profiles:\n",
    "        user_profile = np.zeros(num_features)\n",
    "    else:\n",
    "        user_profile = user_profiles[u]\n",
    "    \n",
    "    user_vector = user_profile.reshape(1, -1)\n",
    "    \n",
    "    # Get article vectors for this impression only\n",
    "    indices = [news_id_to_idx[nid] for nid in impression if nid in news_id_to_idx]\n",
    "    article_vectors = tfidf_matrix[indices]  # shape: [num_articles_in_impression x num_features]\n",
    "\n",
    "    similarities = cosine_similarity(user_vector, article_vectors)\n",
    "    return similarities[0]  # also return indices so you know which articles the scores belong to\n",
    "\n",
    "def mrr_score(labels, scores):\n",
    "    ranked = np.argsort(scores)[::-1]\n",
    "    for rank, idx in enumerate(ranked):\n",
    "        if labels[idx] == 1:\n",
    "            return 1.0 / (rank + 1)\n",
    "    return 0.0\n",
    "\n",
    "def ndcg_score(labels, scores, k=5):\n",
    "    ranked = np.argsort(scores)[::-1][:k]\n",
    "    dcg = 0.0\n",
    "    for i, idx in enumerate(ranked):\n",
    "        rel = labels[idx]\n",
    "        dcg += rel / np.log2(i + 2)\n",
    "    ideal_dcg = sum([1.0 / np.log2(i + 2) for i in range(min(sum(labels), k))])\n",
    "    return dcg / ideal_dcg if ideal_dcg > 0 else 0.0"
   ]
  },
  {
   "cell_type": "code",
   "execution_count": 47,
   "metadata": {},
   "outputs": [],
   "source": [
    "for user,impression,label in user_impression_data:\n",
    "    scores = get_scores(user,impression)\n",
    "    if len(scores) < 2 or sum(label) == 0:\n",
    "        continue #ignore unmeaningful data\n",
    "\n",
    "    try:\n",
    "        all_auc.append(roc_auc_score(label, scores))\n",
    "    except Exception as e:\n",
    "        pass  # AUC may error on uniform labels\n",
    "    all_mrr.append(mrr_score(label, scores))\n",
    "    all_ndcg5.append(ndcg_score(label, scores, k=5))\n",
    "    all_ndcg10.append(ndcg_score(label, scores, k=10))"
   ]
  },
  {
   "cell_type": "code",
   "execution_count": 48,
   "metadata": {},
   "outputs": [
    {
     "name": "stdout",
     "output_type": "stream",
     "text": [
      "AUC: 0.5463529382705986\n",
      "MRR: 0.2813361078733785\n",
      "nDCG@5: 0.2611318886150245\n",
      "nDCG@10: 0.3225301851463481\n"
     ]
    }
   ],
   "source": [
    "# Print final evaluation results on eval set\n",
    "print(\"AUC:\", np.mean(all_auc))\n",
    "print(\"MRR:\", np.mean(all_mrr))\n",
    "print(\"nDCG@5:\", np.mean(all_ndcg5))\n",
    "print(\"nDCG@10:\", np.mean(all_ndcg10))"
   ]
  },
  {
   "cell_type": "code",
   "execution_count": null,
   "metadata": {},
   "outputs": [],
   "source": []
  }
 ],
 "metadata": {
  "kernelspec": {
   "display_name": "cse482-newsrec",
   "language": "python",
   "name": "python3"
  },
  "language_info": {
   "codemirror_mode": {
    "name": "ipython",
    "version": 3
   },
   "file_extension": ".py",
   "mimetype": "text/x-python",
   "name": "python",
   "nbconvert_exporter": "python",
   "pygments_lexer": "ipython3",
   "version": "3.13.2"
  }
 },
 "nbformat": 4,
 "nbformat_minor": 2
}
